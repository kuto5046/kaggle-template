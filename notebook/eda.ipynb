{
 "cells": [
  {
   "cell_type": "code",
   "execution_count": 3,
   "metadata": {},
   "outputs": [],
   "source": [
    "import sys\n",
    "import pandas as pd \n",
    "import numpy as np \n",
    "sys.path.append('../')\n",
    "from src.visualize import pd_profiling, sweetviz_report, plot_venn, show_all"
   ]
  },
  {
   "cell_type": "code",
   "execution_count": 2,
   "metadata": {},
   "outputs": [],
   "source": [
    "INPUT_DIR = '../input/'\n",
    "train = pd.read_csv(INPUT_DIR + 'train_ratings.csv')\n",
    "test = pd.read_csv(INPUT_DIR + 'test_ratings.csv')\n",
    "whole = pd.concat([train, test])"
   ]
  },
  {
   "cell_type": "code",
   "execution_count": 4,
   "metadata": {},
   "outputs": [
    {
     "name": "stdout",
     "output_type": "stream",
     "text": [
      "Data shape :(383733, 4)\n"
     ]
    },
    {
     "data": {
      "text/html": [
       "<style type=\"text/css\">\n",
       "</style>\n",
       "<table id=\"T_8e5bb_\" style='display:inline'>\n",
       "  <caption>Describe Data Num</caption>\n",
       "  <thead>\n",
       "    <tr>\n",
       "      <th class=\"blank level0\" >&nbsp;</th>\n",
       "      <th class=\"col_heading level0 col0\" >rating</th>\n",
       "    </tr>\n",
       "  </thead>\n",
       "  <tbody>\n",
       "    <tr>\n",
       "      <th id=\"T_8e5bb_level0_row0\" class=\"row_heading level0 row0\" >count</th>\n",
       "      <td id=\"T_8e5bb_row0_col0\" class=\"data row0 col0\" >249426.000000</td>\n",
       "    </tr>\n",
       "    <tr>\n",
       "      <th id=\"T_8e5bb_level0_row1\" class=\"row_heading level0 row1\" >mean</th>\n",
       "      <td id=\"T_8e5bb_row1_col0\" class=\"data row1 col0\" >7.626651</td>\n",
       "    </tr>\n",
       "    <tr>\n",
       "      <th id=\"T_8e5bb_level0_row2\" class=\"row_heading level0 row2\" >std</th>\n",
       "      <td id=\"T_8e5bb_row2_col0\" class=\"data row2 col0\" >1.841331</td>\n",
       "    </tr>\n",
       "    <tr>\n",
       "      <th id=\"T_8e5bb_level0_row3\" class=\"row_heading level0 row3\" >min</th>\n",
       "      <td id=\"T_8e5bb_row3_col0\" class=\"data row3 col0\" >1.000000</td>\n",
       "    </tr>\n",
       "    <tr>\n",
       "      <th id=\"T_8e5bb_level0_row4\" class=\"row_heading level0 row4\" >25%</th>\n",
       "      <td id=\"T_8e5bb_row4_col0\" class=\"data row4 col0\" >7.000000</td>\n",
       "    </tr>\n",
       "    <tr>\n",
       "      <th id=\"T_8e5bb_level0_row5\" class=\"row_heading level0 row5\" >50%</th>\n",
       "      <td id=\"T_8e5bb_row5_col0\" class=\"data row5 col0\" >8.000000</td>\n",
       "    </tr>\n",
       "    <tr>\n",
       "      <th id=\"T_8e5bb_level0_row6\" class=\"row_heading level0 row6\" >75%</th>\n",
       "      <td id=\"T_8e5bb_row6_col0\" class=\"data row6 col0\" >9.000000</td>\n",
       "    </tr>\n",
       "    <tr>\n",
       "      <th id=\"T_8e5bb_level0_row7\" class=\"row_heading level0 row7\" >max</th>\n",
       "      <td id=\"T_8e5bb_row7_col0\" class=\"data row7 col0\" >10.000000</td>\n",
       "    </tr>\n",
       "  </tbody>\n",
       "</table>\n"
      ]
     },
     "metadata": {},
     "output_type": "display_data"
    },
    {
     "data": {
      "text/html": [
       "<style type=\"text/css\">\n",
       "</style>\n",
       "<table id=\"T_1e174_\" style='display:inline'>\n",
       "  <caption>Describe Data Object</caption>\n",
       "  <thead>\n",
       "    <tr>\n",
       "      <th class=\"blank level0\" >&nbsp;</th>\n",
       "      <th class=\"col_heading level0 col0\" >id</th>\n",
       "      <th class=\"col_heading level0 col1\" >user_id</th>\n",
       "      <th class=\"col_heading level0 col2\" >book_id</th>\n",
       "    </tr>\n",
       "  </thead>\n",
       "  <tbody>\n",
       "    <tr>\n",
       "      <th id=\"T_1e174_level0_row0\" class=\"row_heading level0 row0\" >count</th>\n",
       "      <td id=\"T_1e174_row0_col0\" class=\"data row0 col0\" >383733</td>\n",
       "      <td id=\"T_1e174_row0_col1\" class=\"data row0 col1\" >383733</td>\n",
       "      <td id=\"T_1e174_row0_col2\" class=\"data row0 col2\" >383733</td>\n",
       "    </tr>\n",
       "    <tr>\n",
       "      <th id=\"T_1e174_level0_row1\" class=\"row_heading level0 row1\" >unique</th>\n",
       "      <td id=\"T_1e174_row1_col0\" class=\"data row1 col0\" >383733</td>\n",
       "      <td id=\"T_1e174_row1_col1\" class=\"data row1 col1\" >68084</td>\n",
       "      <td id=\"T_1e174_row1_col2\" class=\"data row1 col2\" >149767</td>\n",
       "    </tr>\n",
       "    <tr>\n",
       "      <th id=\"T_1e174_level0_row2\" class=\"row_heading level0 row2\" >top</th>\n",
       "      <td id=\"T_1e174_row2_col0\" class=\"data row2 col0\" >5c52cc76216e68f8</td>\n",
       "      <td id=\"T_1e174_row2_col1\" class=\"data row2 col1\" >de65a3fb6d</td>\n",
       "      <td id=\"T_1e174_row2_col2\" class=\"data row2 col2\" >69390508d2</td>\n",
       "    </tr>\n",
       "    <tr>\n",
       "      <th id=\"T_1e174_level0_row3\" class=\"row_heading level0 row3\" >freq</th>\n",
       "      <td id=\"T_1e174_row3_col0\" class=\"data row3 col0\" >1</td>\n",
       "      <td id=\"T_1e174_row3_col1\" class=\"data row3 col1\" >6943</td>\n",
       "      <td id=\"T_1e174_row3_col2\" class=\"data row3 col2\" >707</td>\n",
       "    </tr>\n",
       "  </tbody>\n",
       "</table>\n"
      ]
     },
     "metadata": {},
     "output_type": "display_data"
    },
    {
     "data": {
      "text/html": [
       "<style type=\"text/css\">\n",
       "</style>\n",
       "<table id=\"T_2cae8_\" style='display:inline'>\n",
       "  <caption>Head Data</caption>\n",
       "  <thead>\n",
       "    <tr>\n",
       "      <th class=\"blank level0\" >&nbsp;</th>\n",
       "      <th class=\"col_heading level0 col0\" >id</th>\n",
       "      <th class=\"col_heading level0 col1\" >user_id</th>\n",
       "      <th class=\"col_heading level0 col2\" >book_id</th>\n",
       "      <th class=\"col_heading level0 col3\" >rating</th>\n",
       "    </tr>\n",
       "  </thead>\n",
       "  <tbody>\n",
       "    <tr>\n",
       "      <th id=\"T_2cae8_level0_row0\" class=\"row_heading level0 row0\" >0</th>\n",
       "      <td id=\"T_2cae8_row0_col0\" class=\"data row0 col0\" >5c52cc76216e68f8</td>\n",
       "      <td id=\"T_2cae8_row0_col1\" class=\"data row0 col1\" >9db527ea34</td>\n",
       "      <td id=\"T_2cae8_row0_col2\" class=\"data row0 col2\" >69173ee3b6</td>\n",
       "      <td id=\"T_2cae8_row0_col3\" class=\"data row0 col3\" >5.000000</td>\n",
       "    </tr>\n",
       "    <tr>\n",
       "      <th id=\"T_2cae8_level0_row1\" class=\"row_heading level0 row1\" >1</th>\n",
       "      <td id=\"T_2cae8_row1_col0\" class=\"data row1 col0\" >9ecc1d4a2e9a7476</td>\n",
       "      <td id=\"T_2cae8_row1_col1\" class=\"data row1 col1\" >3db2595a13</td>\n",
       "      <td id=\"T_2cae8_row1_col2\" class=\"data row1 col2\" >58d33fe06a</td>\n",
       "      <td id=\"T_2cae8_row1_col3\" class=\"data row1 col3\" >8.000000</td>\n",
       "    </tr>\n",
       "    <tr>\n",
       "      <th id=\"T_2cae8_level0_row2\" class=\"row_heading level0 row2\" >2</th>\n",
       "      <td id=\"T_2cae8_row2_col0\" class=\"data row2 col0\" >953317c1edbe1e56</td>\n",
       "      <td id=\"T_2cae8_row2_col1\" class=\"data row2 col1\" >375781e597</td>\n",
       "      <td id=\"T_2cae8_row2_col2\" class=\"data row2 col2\" >512b5d69de</td>\n",
       "      <td id=\"T_2cae8_row2_col3\" class=\"data row2 col3\" >10.000000</td>\n",
       "    </tr>\n",
       "    <tr>\n",
       "      <th id=\"T_2cae8_level0_row3\" class=\"row_heading level0 row3\" >3</th>\n",
       "      <td id=\"T_2cae8_row3_col0\" class=\"data row3 col0\" >617ef107e6ffed5a</td>\n",
       "      <td id=\"T_2cae8_row3_col1\" class=\"data row3 col1\" >f00ee6360d</td>\n",
       "      <td id=\"T_2cae8_row3_col2\" class=\"data row3 col2\" >98c1419160</td>\n",
       "      <td id=\"T_2cae8_row3_col3\" class=\"data row3 col3\" >9.000000</td>\n",
       "    </tr>\n",
       "    <tr>\n",
       "      <th id=\"T_2cae8_level0_row4\" class=\"row_heading level0 row4\" >4</th>\n",
       "      <td id=\"T_2cae8_row4_col0\" class=\"data row4 col0\" >0e2be280941c4d1f</td>\n",
       "      <td id=\"T_2cae8_row4_col1\" class=\"data row4 col1\" >8b893fb104</td>\n",
       "      <td id=\"T_2cae8_row4_col2\" class=\"data row4 col2\" >99c56ce036</td>\n",
       "      <td id=\"T_2cae8_row4_col3\" class=\"data row4 col3\" >9.000000</td>\n",
       "    </tr>\n",
       "  </tbody>\n",
       "</table>\n"
      ]
     },
     "metadata": {},
     "output_type": "display_data"
    },
    {
     "data": {
      "text/html": [
       "<style type=\"text/css\">\n",
       "</style>\n",
       "<table id=\"T_d2c17_\" style='display:inline'>\n",
       "  <caption>Tail Data</caption>\n",
       "  <thead>\n",
       "    <tr>\n",
       "      <th class=\"blank level0\" >&nbsp;</th>\n",
       "      <th class=\"col_heading level0 col0\" >id</th>\n",
       "      <th class=\"col_heading level0 col1\" >user_id</th>\n",
       "      <th class=\"col_heading level0 col2\" >book_id</th>\n",
       "      <th class=\"col_heading level0 col3\" >rating</th>\n",
       "    </tr>\n",
       "  </thead>\n",
       "  <tbody>\n",
       "    <tr>\n",
       "      <th id=\"T_d2c17_level0_row0\" class=\"row_heading level0 row0\" >134302</th>\n",
       "      <td id=\"T_d2c17_row0_col0\" class=\"data row0 col0\" >5ec870a616cf1532</td>\n",
       "      <td id=\"T_d2c17_row0_col1\" class=\"data row0 col1\" >598825e90a</td>\n",
       "      <td id=\"T_d2c17_row0_col2\" class=\"data row0 col2\" >29f4516f72</td>\n",
       "      <td id=\"T_d2c17_row0_col3\" class=\"data row0 col3\" >nan</td>\n",
       "    </tr>\n",
       "    <tr>\n",
       "      <th id=\"T_d2c17_level0_row1\" class=\"row_heading level0 row1\" >134303</th>\n",
       "      <td id=\"T_d2c17_row1_col0\" class=\"data row1 col0\" >0d6904a47e41a6c9</td>\n",
       "      <td id=\"T_d2c17_row1_col1\" class=\"data row1 col1\" >0e1ff052ae</td>\n",
       "      <td id=\"T_d2c17_row1_col2\" class=\"data row1 col2\" >d27721acf2</td>\n",
       "      <td id=\"T_d2c17_row1_col3\" class=\"data row1 col3\" >nan</td>\n",
       "    </tr>\n",
       "    <tr>\n",
       "      <th id=\"T_d2c17_level0_row2\" class=\"row_heading level0 row2\" >134304</th>\n",
       "      <td id=\"T_d2c17_row2_col0\" class=\"data row2 col0\" >0b0613b30831be62</td>\n",
       "      <td id=\"T_d2c17_row2_col1\" class=\"data row2 col1\" >0baec5a22d</td>\n",
       "      <td id=\"T_d2c17_row2_col2\" class=\"data row2 col2\" >121a671e06</td>\n",
       "      <td id=\"T_d2c17_row2_col3\" class=\"data row2 col3\" >nan</td>\n",
       "    </tr>\n",
       "    <tr>\n",
       "      <th id=\"T_d2c17_level0_row3\" class=\"row_heading level0 row3\" >134305</th>\n",
       "      <td id=\"T_d2c17_row3_col0\" class=\"data row3 col0\" >be05f60e761615a3</td>\n",
       "      <td id=\"T_d2c17_row3_col1\" class=\"data row3 col1\" >967874531a</td>\n",
       "      <td id=\"T_d2c17_row3_col2\" class=\"data row3 col2\" >c414ce067b</td>\n",
       "      <td id=\"T_d2c17_row3_col3\" class=\"data row3 col3\" >nan</td>\n",
       "    </tr>\n",
       "    <tr>\n",
       "      <th id=\"T_d2c17_level0_row4\" class=\"row_heading level0 row4\" >134306</th>\n",
       "      <td id=\"T_d2c17_row4_col0\" class=\"data row4 col0\" >121b266392c13f93</td>\n",
       "      <td id=\"T_d2c17_row4_col1\" class=\"data row4 col1\" >3ca5c9417e</td>\n",
       "      <td id=\"T_d2c17_row4_col2\" class=\"data row4 col2\" >2ab7f94fb2</td>\n",
       "      <td id=\"T_d2c17_row4_col3\" class=\"data row4 col3\" >nan</td>\n",
       "    </tr>\n",
       "  </tbody>\n",
       "</table>\n"
      ]
     },
     "metadata": {},
     "output_type": "display_data"
    },
    {
     "data": {
      "text/html": [
       "<style type=\"text/css\">\n",
       "</style>\n",
       "<table id=\"T_8cdc9_\" style='display:inline'>\n",
       "  <caption>Missing Value</caption>\n",
       "  <thead>\n",
       "    <tr>\n",
       "      <th class=\"blank level0\" >&nbsp;</th>\n",
       "      <th class=\"col_heading level0 col0\" >id</th>\n",
       "      <th class=\"col_heading level0 col1\" >user_id</th>\n",
       "      <th class=\"col_heading level0 col2\" >book_id</th>\n",
       "      <th class=\"col_heading level0 col3\" >rating</th>\n",
       "    </tr>\n",
       "  </thead>\n",
       "  <tbody>\n",
       "    <tr>\n",
       "      <th id=\"T_8cdc9_level0_row0\" class=\"row_heading level0 row0\" >Total</th>\n",
       "      <td id=\"T_8cdc9_row0_col0\" class=\"data row0 col0\" >0</td>\n",
       "      <td id=\"T_8cdc9_row0_col1\" class=\"data row0 col1\" >0</td>\n",
       "      <td id=\"T_8cdc9_row0_col2\" class=\"data row0 col2\" >0</td>\n",
       "      <td id=\"T_8cdc9_row0_col3\" class=\"data row0 col3\" >134307</td>\n",
       "    </tr>\n",
       "    <tr>\n",
       "      <th id=\"T_8cdc9_level0_row1\" class=\"row_heading level0 row1\" >Percent</th>\n",
       "      <td id=\"T_8cdc9_row1_col0\" class=\"data row1 col0\" >0.000000</td>\n",
       "      <td id=\"T_8cdc9_row1_col1\" class=\"data row1 col1\" >0.000000</td>\n",
       "      <td id=\"T_8cdc9_row1_col2\" class=\"data row1 col2\" >0.000000</td>\n",
       "      <td id=\"T_8cdc9_row1_col3\" class=\"data row1 col3\" >35.000117</td>\n",
       "    </tr>\n",
       "    <tr>\n",
       "      <th id=\"T_8cdc9_level0_row2\" class=\"row_heading level0 row2\" >Types</th>\n",
       "      <td id=\"T_8cdc9_row2_col0\" class=\"data row2 col0\" >object</td>\n",
       "      <td id=\"T_8cdc9_row2_col1\" class=\"data row2 col1\" >object</td>\n",
       "      <td id=\"T_8cdc9_row2_col2\" class=\"data row2 col2\" >object</td>\n",
       "      <td id=\"T_8cdc9_row2_col3\" class=\"data row2 col3\" >float64</td>\n",
       "    </tr>\n",
       "  </tbody>\n",
       "</table>\n"
      ]
     },
     "metadata": {},
     "output_type": "display_data"
    },
    {
     "data": {
      "text/html": [
       "<style type=\"text/css\">\n",
       "</style>\n",
       "<table id=\"T_42862_\" style='display:inline'>\n",
       "  <caption>Frequent Value</caption>\n",
       "  <thead>\n",
       "    <tr>\n",
       "      <th class=\"blank level0\" >&nbsp;</th>\n",
       "      <th class=\"col_heading level0 col0\" >id</th>\n",
       "      <th class=\"col_heading level0 col1\" >user_id</th>\n",
       "      <th class=\"col_heading level0 col2\" >book_id</th>\n",
       "      <th class=\"col_heading level0 col3\" >rating</th>\n",
       "    </tr>\n",
       "  </thead>\n",
       "  <tbody>\n",
       "    <tr>\n",
       "      <th id=\"T_42862_level0_row0\" class=\"row_heading level0 row0\" >Total</th>\n",
       "      <td id=\"T_42862_row0_col0\" class=\"data row0 col0\" >383733</td>\n",
       "      <td id=\"T_42862_row0_col1\" class=\"data row0 col1\" >383733</td>\n",
       "      <td id=\"T_42862_row0_col2\" class=\"data row0 col2\" >383733</td>\n",
       "      <td id=\"T_42862_row0_col3\" class=\"data row0 col3\" >249426</td>\n",
       "    </tr>\n",
       "    <tr>\n",
       "      <th id=\"T_42862_level0_row1\" class=\"row_heading level0 row1\" >Most frequent item</th>\n",
       "      <td id=\"T_42862_row1_col0\" class=\"data row1 col0\" >5c52cc76216e68f8</td>\n",
       "      <td id=\"T_42862_row1_col1\" class=\"data row1 col1\" >de65a3fb6d</td>\n",
       "      <td id=\"T_42862_row1_col2\" class=\"data row1 col2\" >69390508d2</td>\n",
       "      <td id=\"T_42862_row1_col3\" class=\"data row1 col3\" >8.000000</td>\n",
       "    </tr>\n",
       "    <tr>\n",
       "      <th id=\"T_42862_level0_row2\" class=\"row_heading level0 row2\" >Frequence</th>\n",
       "      <td id=\"T_42862_row2_col0\" class=\"data row2 col0\" >1</td>\n",
       "      <td id=\"T_42862_row2_col1\" class=\"data row2 col1\" >6943</td>\n",
       "      <td id=\"T_42862_row2_col2\" class=\"data row2 col2\" >707</td>\n",
       "      <td id=\"T_42862_row2_col3\" class=\"data row2 col3\" >59657</td>\n",
       "    </tr>\n",
       "    <tr>\n",
       "      <th id=\"T_42862_level0_row3\" class=\"row_heading level0 row3\" >Percent from total</th>\n",
       "      <td id=\"T_42862_row3_col0\" class=\"data row3 col0\" >0.000000</td>\n",
       "      <td id=\"T_42862_row3_col1\" class=\"data row3 col1\" >1.809000</td>\n",
       "      <td id=\"T_42862_row3_col2\" class=\"data row3 col2\" >0.184000</td>\n",
       "      <td id=\"T_42862_row3_col3\" class=\"data row3 col3\" >23.918000</td>\n",
       "    </tr>\n",
       "  </tbody>\n",
       "</table>\n"
      ]
     },
     "metadata": {},
     "output_type": "display_data"
    },
    {
     "data": {
      "text/html": [
       "<style type=\"text/css\">\n",
       "</style>\n",
       "<table id=\"T_9b9e7_\" style='display:inline'>\n",
       "  <caption>Unique Value</caption>\n",
       "  <thead>\n",
       "    <tr>\n",
       "      <th class=\"blank level0\" >&nbsp;</th>\n",
       "      <th class=\"col_heading level0 col0\" >id</th>\n",
       "      <th class=\"col_heading level0 col1\" >user_id</th>\n",
       "      <th class=\"col_heading level0 col2\" >book_id</th>\n",
       "      <th class=\"col_heading level0 col3\" >rating</th>\n",
       "    </tr>\n",
       "  </thead>\n",
       "  <tbody>\n",
       "    <tr>\n",
       "      <th id=\"T_9b9e7_level0_row0\" class=\"row_heading level0 row0\" >Total</th>\n",
       "      <td id=\"T_9b9e7_row0_col0\" class=\"data row0 col0\" >383733.000000</td>\n",
       "      <td id=\"T_9b9e7_row0_col1\" class=\"data row0 col1\" >383733.000000</td>\n",
       "      <td id=\"T_9b9e7_row0_col2\" class=\"data row0 col2\" >383733.000000</td>\n",
       "      <td id=\"T_9b9e7_row0_col3\" class=\"data row0 col3\" >249426.000000</td>\n",
       "    </tr>\n",
       "    <tr>\n",
       "      <th id=\"T_9b9e7_level0_row1\" class=\"row_heading level0 row1\" >Uniques</th>\n",
       "      <td id=\"T_9b9e7_row1_col0\" class=\"data row1 col0\" >383733.000000</td>\n",
       "      <td id=\"T_9b9e7_row1_col1\" class=\"data row1 col1\" >68084.000000</td>\n",
       "      <td id=\"T_9b9e7_row1_col2\" class=\"data row1 col2\" >149767.000000</td>\n",
       "      <td id=\"T_9b9e7_row1_col3\" class=\"data row1 col3\" >10.000000</td>\n",
       "    </tr>\n",
       "    <tr>\n",
       "      <th id=\"T_9b9e7_level0_row2\" class=\"row_heading level0 row2\" >Percent</th>\n",
       "      <td id=\"T_9b9e7_row2_col0\" class=\"data row2 col0\" >100.000000</td>\n",
       "      <td id=\"T_9b9e7_row2_col1\" class=\"data row2 col1\" >17.743000</td>\n",
       "      <td id=\"T_9b9e7_row2_col2\" class=\"data row2 col2\" >39.029000</td>\n",
       "      <td id=\"T_9b9e7_row2_col3\" class=\"data row2 col3\" >0.004000</td>\n",
       "    </tr>\n",
       "  </tbody>\n",
       "</table>\n"
      ]
     },
     "metadata": {},
     "output_type": "display_data"
    }
   ],
   "source": [
    "show_all(whole)"
   ]
  },
  {
   "cell_type": "code",
   "execution_count": 3,
   "metadata": {},
   "outputs": [
    {
     "data": {
      "image/png": "[encoded data removed]",
      "text/plain": [
       "<Figure size 1440x216 with 5 Axes>"
      ]
     },
     "metadata": {
      "needs_background": "light"
     },
     "output_type": "display_data"
    }
   ],
   "source": [
    "plot_venn(train, test)"
   ]
  },
  {
   "cell_type": "code",
   "execution_count": 4,
   "metadata": {},
   "outputs": [
    {
     "data": {
      "application/vnd.jupyter.widget-view+json": {
       "model_id": "898c7fd9800946819f05ee360c6f135a",
       "version_major": 2,
       "version_minor": 0
      },
      "text/plain": [
       "                                             |          | [  0%]   00:00 -> (? left)"
      ]
     },
     "metadata": {},
     "output_type": "display_data"
    },
    {
     "name": "stdout",
     "output_type": "stream",
     "text": [
      "Report ./SWEETVIZ_REPORT.html was generated! NOTEBOOK/COLAB USERS: the web browser MAY not pop up, regardless, the report IS saved in your notebook/colab files.\n"
     ]
    }
   ],
   "source": [
    "sweetviz_report(train, test)"
   ]
  },
  {
   "cell_type": "code",
   "execution_count": 5,
   "metadata": {},
   "outputs": [
    {
     "data": {
      "application/vnd.jupyter.widget-view+json": {
       "model_id": "a3cdcae5a4c54f50a0e4df5d54a62f0a",
       "version_major": 2,
       "version_minor": 0
      },
      "text/plain": [
       "Summarize dataset:   0%|          | 0/5 [00:00<?, ?it/s]"
      ]
     },
     "metadata": {},
     "output_type": "display_data"
    },
    {
     "data": {
      "application/vnd.jupyter.widget-view+json": {
       "model_id": "b8423ae6f21f4eaebc0ce6c63ed9e9d7",
       "version_major": 2,
       "version_minor": 0
      },
      "text/plain": [
       "Generate report structure:   0%|          | 0/1 [00:00<?, ?it/s]"
      ]
     },
     "metadata": {},
     "output_type": "display_data"
    },
    {
     "data": {
      "application/vnd.jupyter.widget-view+json": {
       "model_id": "bde83ce213e24b10a9923a0798b30b76",
       "version_major": 2,
       "version_minor": 0
      },
      "text/plain": [
       "Render HTML:   0%|          | 0/1 [00:00<?, ?it/s]"
      ]
     },
     "metadata": {},
     "output_type": "display_data"
    },
    {
     "data": {
      "application/vnd.jupyter.widget-view+json": {
       "model_id": "a0a48bd0166b459d8eaa8012ca1a8f54",
       "version_major": 2,
       "version_minor": 0
      },
      "text/plain": [
       "Export report to file:   0%|          | 0/1 [00:00<?, ?it/s]"
      ]
     },
     "metadata": {},
     "output_type": "display_data"
    }
   ],
   "source": [
    "pd_profiling(whole)"
   ]
  },
  {
   "cell_type": "code",
   "execution_count": null,
   "metadata": {},
   "outputs": [],
   "source": []
  }
 ],
 "metadata": {
  "interpreter": {
   "hash": "d4d1e4263499bec80672ea0156c357c1ee493ec2b1c70f0acce89fc37c4a6abe"
  },
  "kernelspec": {
   "display_name": "Python 3.8.12 ('base')",
   "language": "python",
   "name": "python3"
  },
  "language_info": {
   "codemirror_mode": {
    "name": "ipython",
    "version": 3
   },
   "file_extension": ".py",
   "mimetype": "text/x-python",
   "name": "python",
   "nbconvert_exporter": "python",
   "pygments_lexer": "ipython3",
   "version": "3.8.12"
  },
  "orig_nbformat": 4
 },
 "nbformat": 4,
 "nbformat_minor": 2
}
