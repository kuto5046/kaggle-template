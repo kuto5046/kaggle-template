{
 "cells": [
  {
   "cell_type": "markdown",
   "metadata": {},
   "source": [
    "### import"
   ]
  },
  {
   "cell_type": "code",
   "execution_count": 31,
   "metadata": {},
   "outputs": [],
   "source": [
    "import numpy as np \n",
    "import pandas as pd \n",
    "import sys \n",
    "import os \n",
    "import logzero \n",
    "import wandb \n",
    "import pickle \n",
    "import seaborn as sns \n",
    "sns.set()"
   ]
  },
  {
   "cell_type": "code",
   "execution_count": 2,
   "metadata": {},
   "outputs": [],
   "source": [
    "from src.utils import noglobal, pickle_load, pickle_save, HydraConfig"
   ]
  },
  {
   "cell_type": "markdown",
   "metadata": {},
   "source": [
    "### config"
   ]
  },
  {
   "cell_type": "code",
   "execution_count": 3,
   "metadata": {},
   "outputs": [
    {
     "name": "stderr",
     "output_type": "stream",
     "text": [
      "/opt/conda/lib/python3.8/site-packages/hydra/_internal/defaults_list.py:251: UserWarning: In 'cb_binary': Defaults list is missing `_self_`. See https://hydra.cc/docs/upgrades/1.0_to_1.1/default_composition_order for more information\n",
      "  warnings.warn(msg, UserWarning)\n"
     ]
    }
   ],
   "source": [
    "class Config():\n",
    "    version = '001'\n",
    "    comment = 'test'\n",
    "    input_dir = '/home/user/work/input/'\n",
    "    output_dir = f'/home/user/work/output/{version}/' \n",
    "    seed = 42\n",
    "    target_col = 'label'\n",
    "    wandb_init = {\n",
    "        \"project\": \"debug\",\n",
    "        \"entity\": \"kuto5046\",\n",
    "        \"group\": f\"exp{version}\",\n",
    "        \"dir\": output_dir,\n",
    "        \"tags\": [],\n",
    "        \"mode\": \"disabled\", \n",
    "    }\n",
    "\n",
    "    # model設定読み込み\n",
    "    model_config_name = 'cb_binary'  # タスクや使うモデルに応じて変更\n",
    "    model_config = HydraConfig.get_cnf(config_path='/home/user/work/configs/model/', config_name=model_config_name)\n",
    "    num_boost_round = model_config['num_boost_round']\n",
    "    model_name = model_config.name\n",
    "    model_params = dict(model_config['params'])\n",
    "\n",
    "    \n",
    "\n",
    "c = Config()\n",
    "# c = HydraConfig.get_cnf(config_path='/home/user/work/configs/', config_name='config.yaml')\n",
    "os.makedirs(c.output_dir, exist_ok=True)\n",
    "logger = logzero.setup_logger(name='main', logfile=f'{c.output_dir}/result.log', level=10)"
   ]
  },
  {
   "cell_type": "code",
   "execution_count": 4,
   "metadata": {},
   "outputs": [
    {
     "data": {
      "text/plain": [
       "('catboost-classifier',\n",
       " 'None',\n",
       " {'loss_function': 'Logloss',\n",
       "  'eval_metric': 'Logloss',\n",
       "  'num_boost_round': 3000,\n",
       "  'colsample_bylevel': 0.8,\n",
       "  'max_depth': 5,\n",
       "  'subsample': 0.8,\n",
       "  'random_seed': 42,\n",
       "  'learning_rate': 0.05})"
      ]
     },
     "execution_count": 4,
     "metadata": {},
     "output_type": "execute_result"
    }
   ],
   "source": [
    "# 念の為check\n",
    "c.model_name, c.num_boost_round, c.model_params"
   ]
  },
  {
   "cell_type": "markdown",
   "metadata": {},
   "source": [
    "### read data"
   ]
  },
  {
   "cell_type": "code",
   "execution_count": 5,
   "metadata": {},
   "outputs": [
    {
     "data": {
      "text/plain": [
       "((232785, 4), (125346, 3))"
      ]
     },
     "execution_count": 5,
     "metadata": {},
     "output_type": "execute_result"
    }
   ],
   "source": [
    "train = pd.read_csv(f'{c.input_dir}/train.csv')\n",
    "test = pd.read_csv(f'{c.input_dir}/test.csv')\n",
    "train.shape, test.shape"
   ]
  },
  {
   "cell_type": "markdown",
   "metadata": {},
   "source": [
    "### preprocess"
   ]
  },
  {
   "cell_type": "code",
   "execution_count": 6,
   "metadata": {},
   "outputs": [
    {
     "name": "stderr",
     "output_type": "stream",
     "text": [
      "2022-10-03 13:34:53.011437: I tensorflow/core/platform/cpu_feature_guard.cc:193] This TensorFlow binary is optimized with oneAPI Deep Neural Network Library (oneDNN) to use the following CPU instructions in performance-critical operations:  AVX2 FMA\n",
      "To enable them in other operations, rebuild TensorFlow with the appropriate compiler flags.\n",
      "2022-10-03 13:34:53.124892: E tensorflow/stream_executor/cuda/cuda_blas.cc:2981] Unable to register cuBLAS factory: Attempting to register factory for plugin cuBLAS when one has already been registered\n",
      "2022-10-03 13:34:53.563263: W tensorflow/stream_executor/platform/default/dso_loader.cc:64] Could not load dynamic library 'libnvinfer.so.7'; dlerror: libnvinfer.so.7: cannot open shared object file: No such file or directory; LD_LIBRARY_PATH: /opt/conda/lib/python3.8/site-packages/torch/lib:/opt/conda/lib/python3.8/site-packages/torch_tensorrt/lib:/usr/local/cuda/compat/lib:/usr/local/nvidia/lib:/usr/local/nvidia/lib64\n",
      "2022-10-03 13:34:53.563313: W tensorflow/stream_executor/platform/default/dso_loader.cc:64] Could not load dynamic library 'libnvinfer_plugin.so.7'; dlerror: libnvinfer_plugin.so.7: cannot open shared object file: No such file or directory; LD_LIBRARY_PATH: /opt/conda/lib/python3.8/site-packages/torch/lib:/opt/conda/lib/python3.8/site-packages/torch_tensorrt/lib:/usr/local/cuda/compat/lib:/usr/local/nvidia/lib:/usr/local/nvidia/lib64\n",
      "2022-10-03 13:34:53.563318: W tensorflow/compiler/tf2tensorrt/utils/py_utils.cc:38] TF-TRT Warning: Cannot dlopen some TensorRT libraries. If you would like to use Nvidia GPU with TensorRT, please make sure the missing libraries mentioned above are installed properly.\n"
     ]
    }
   ],
   "source": [
    "from src.features.base import Feature, generate_features, get_categorical_col, get_numerical_col, load_datasets\n",
    "from src.features.encoder import count_encoder, ordinal_encoder, pp_for_categorical_encoding, target_encoder\n",
    "from src.features.nlp import count_lda_vectorize, tfidf_svd_vectorize, UniversalSentenceEncoder, BertSequenceVectorizer, Sentence2Vec, SCDVEmbedder"
   ]
  },
  {
   "cell_type": "code",
   "execution_count": 7,
   "metadata": {},
   "outputs": [],
   "source": [
    "whole = pd.concat([train, test]).reset_index(drop=True)\n",
    "whole = pd.concat([whole, whole['code'].str.split('\\n', expand=True).add_prefix('code_')], axis=1)\n",
    "\n",
    "for i in range(5):\n",
    "    whole[f'code_{i}'] = whole[f'code_{i}'].str.strip()\n",
    "\n",
    "cat_cols = get_categorical_col(whole, skip_cols=['id', c.target_col])\n",
    "numerical_cols = get_numerical_col(whole, skip_cols=['id', c.target_col])"
   ]
  },
  {
   "cell_type": "code",
   "execution_count": 8,
   "metadata": {},
   "outputs": [
    {
     "data": {
      "text/plain": [
       "['code', 'file_extension', 'code_0', 'code_1', 'code_2', 'code_3', 'code_4']"
      ]
     },
     "execution_count": 8,
     "metadata": {},
     "output_type": "execute_result"
    }
   ],
   "source": [
    "cat_cols"
   ]
  },
  {
   "cell_type": "code",
   "execution_count": 9,
   "metadata": {},
   "outputs": [
    {
     "data": {
      "text/plain": [
       "[]"
      ]
     },
     "execution_count": 9,
     "metadata": {},
     "output_type": "execute_result"
    }
   ],
   "source": [
    "numerical_cols"
   ]
  },
  {
   "cell_type": "code",
   "execution_count": 10,
   "metadata": {},
   "outputs": [],
   "source": [
    "train = whole[~whole[c.target_col].isna()].reset_index(drop=True)\n",
    "test = whole[whole[c.target_col].isna()].reset_index(drop=True)"
   ]
  },
  {
   "cell_type": "code",
   "execution_count": 11,
   "metadata": {},
   "outputs": [],
   "source": [
    "train, test = pp_for_categorical_encoding(train, test, cat_cols)"
   ]
  },
  {
   "cell_type": "markdown",
   "metadata": {},
   "source": [
    "### feature engineering"
   ]
  },
  {
   "cell_type": "code",
   "execution_count": 12,
   "metadata": {},
   "outputs": [],
   "source": [
    "class TfidfSvdCode2(Feature):\n",
    "    def create_features(self):\n",
    "        col = 'code_2'\n",
    "        self.train = tfidf_svd_vectorize(train, col=col)\n",
    "        self.test = tfidf_svd_vectorize(test, col=col)\n",
    "\n",
    "# class CoundLDACode2(Feature):\n",
    "#     def create_features(self):\n",
    "#         col = 'code_2'\n",
    "#         self.train = count_lda_vectorize(train, col=col)\n",
    "#         self.test = count_lda_vectorize(test, col=col)\n",
    "\n",
    "\n",
    "class OrdinalEncode(Feature):\n",
    "    def create_features(self):\n",
    "        self.train, self.test = ordinal_encoder(train, test, cat_cols)\n",
    "\n",
    "\n",
    "class BertVecCode2(Feature):\n",
    "    def create_features(self):\n",
    "        bert = BertSequenceVectorizer()\n",
    "        col = 'code_2'\n",
    "        self.train = bert.vectorize_to_df(train, col)\n",
    "        self.test = bert.vectorize_to_df(test, col)\n",
    "\n",
    "\n",
    "class USEncodeCode2(Feature):\n",
    "    def create_features(self):\n",
    "        col = 'code_2'\n",
    "        usencoder = UniversalSentenceEncoder()\n",
    "        self.train = usencoder.vectorize(train, col)\n",
    "        self.test = usencoder.vectorize(test, col)\n",
    "\n",
    "\n",
    "# class Sentence2VecCode2(Feature):\n",
    "#     def create_features(self):\n",
    "#         col = 'code_2'\n",
    "#         encoder = Sentence2Vec()\n",
    "#         self.train = encoder.vectorize_to_df(train, col)\n",
    "#         self.test = encoder.vectorize_to_df(test, col)"
   ]
  },
  {
   "cell_type": "code",
   "execution_count": 13,
   "metadata": {},
   "outputs": [
    {
     "name": "stdout",
     "output_type": "stream",
     "text": [
      "TfidfSvdCode2 was skipped\n",
      "OrdinalEncode was skipped\n",
      "BertVecCode2 was skipped\n",
      "USEncodeCode2 was skipped\n"
     ]
    }
   ],
   "source": [
    "ext = 'pickle'\n",
    "generate_features(globals(), ext=ext, overwrite=False)"
   ]
  },
  {
   "cell_type": "code",
   "execution_count": 14,
   "metadata": {},
   "outputs": [],
   "source": [
    "feats = [\n",
    "    # 'TfidfSvdCode2',\n",
    "    'OrdinalEncode',\n",
    "    # 'CoundLDACode2',\n",
    "    # 'USEncodeCode2',\n",
    "    # 'BertVecCode2'\n",
    "]\n",
    "train_data, test_data = load_datasets(feats, ext=ext)"
   ]
  },
  {
   "cell_type": "code",
   "execution_count": 15,
   "metadata": {},
   "outputs": [
    {
     "data": {
      "text/plain": [
       "['code_ordinal_enc',\n",
       " 'file_extension_ordinal_enc',\n",
       " 'code_0_ordinal_enc',\n",
       " 'code_1_ordinal_enc',\n",
       " 'code_2_ordinal_enc',\n",
       " 'code_3_ordinal_enc',\n",
       " 'code_4_ordinal_enc']"
      ]
     },
     "execution_count": 15,
     "metadata": {},
     "output_type": "execute_result"
    }
   ],
   "source": [
    "cat_cols = get_categorical_col(train_data)\n",
    "cat_cols "
   ]
  },
  {
   "cell_type": "code",
   "execution_count": 16,
   "metadata": {},
   "outputs": [
    {
     "name": "stdout",
     "output_type": "stream",
     "text": [
      "code_ordinal_enc\n",
      "file_extension_ordinal_enc\n",
      "code_0_ordinal_enc\n",
      "code_1_ordinal_enc\n",
      "code_2_ordinal_enc\n",
      "code_3_ordinal_enc\n",
      "code_4_ordinal_enc\n"
     ]
    }
   ],
   "source": [
    "# 使用する特徴量&label\n",
    "for f in train_data.columns:\n",
    "    print(f)"
   ]
  },
  {
   "cell_type": "code",
   "execution_count": 17,
   "metadata": {},
   "outputs": [],
   "source": [
    "train_data[c.target_col] = train[c.target_col].to_numpy()"
   ]
  },
  {
   "cell_type": "markdown",
   "metadata": {},
   "source": [
    "### cv"
   ]
  },
  {
   "cell_type": "code",
   "execution_count": 18,
   "metadata": {},
   "outputs": [
    {
     "data": {
      "text/plain": [
       "[(array([     0,      1,      2, ..., 232782, 232783, 232784]),\n",
       "  array([     6,     10,     15, ..., 232756, 232764, 232767])),\n",
       " (array([     0,      1,      3, ..., 232781, 232782, 232783]),\n",
       "  array([     2,      4,      7, ..., 232773, 232779, 232784])),\n",
       " (array([     0,      2,      3, ..., 232782, 232783, 232784]),\n",
       "  array([     1,      5,     12, ..., 232765, 232777, 232781])),\n",
       " (array([     0,      1,      2, ..., 232781, 232782, 232784]),\n",
       "  array([     8,     27,     33, ..., 232778, 232780, 232783])),\n",
       " (array([     1,      2,      4, ..., 232781, 232783, 232784]),\n",
       "  array([     0,      3,      9, ..., 232772, 232774, 232782]))]"
      ]
     },
     "execution_count": 18,
     "metadata": {},
     "output_type": "execute_result"
    }
   ],
   "source": [
    "from src.cv import get_kfold, get_stratifiedkfold, get_groupkfold\n",
    "cv = get_stratifiedkfold(train_data, c.target_col, n_splits=5)\n",
    "cv"
   ]
  },
  {
   "cell_type": "markdown",
   "metadata": {},
   "source": [
    "### callback"
   ]
  },
  {
   "cell_type": "code",
   "execution_count": 19,
   "metadata": {},
   "outputs": [
    {
     "data": {
      "text/plain": [
       "[]"
      ]
     },
     "execution_count": 19,
     "metadata": {},
     "output_type": "execute_result"
    }
   ],
   "source": [
    "from src.models import get_callbacks\n",
    "callbacks = get_callbacks(c.model_name)\n",
    "callbacks"
   ]
  },
  {
   "cell_type": "markdown",
   "metadata": {},
   "source": [
    "### model"
   ]
  },
  {
   "cell_type": "code",
   "execution_count": 20,
   "metadata": {},
   "outputs": [],
   "source": [
    "from src.models import get_model # , LGBModel, XGBModel, CBModel \n",
    "\n",
    "model = get_model(c.model_name, c.model_params, c.num_boost_round, cat_cols, c.output_dir, callbacks)"
   ]
  },
  {
   "cell_type": "markdown",
   "metadata": {},
   "source": [
    "### train"
   ]
  },
  {
   "cell_type": "code",
   "execution_count": 21,
   "metadata": {},
   "outputs": [],
   "source": [
    "from sklearn.metrics import f1_score, roc_auc_score\n",
    "def calc_score(true, pred):\n",
    "    return roc_auc_score(true, pred)"
   ]
  },
  {
   "cell_type": "code",
   "execution_count": 22,
   "metadata": {},
   "outputs": [],
   "source": [
    "def train_pipeline(model, train, test, cv, config, cat_cols, target_col):\n",
    "    oofs = []\n",
    "    preds = []\n",
    "    for i, (idx_train, idx_valid) in enumerate(cv):\n",
    "        wandb.init(**config.wandb_init, name=f'exp{config.version}-fold{i}')\n",
    "\n",
    "        if i not in [0]:\n",
    "            break \n",
    "\n",
    "        logger.info(\"############\")\n",
    "        logger.info(f\"fold {i}\")\n",
    "        logger.info(\"############\")\n",
    "\n",
    "        _train = train.loc[idx_train].reset_index(drop=True)\n",
    "        _valid = train.loc[idx_valid].reset_index(drop=True)\n",
    "\n",
    "        # target encoding\n",
    "        # for col in cat_cols:\n",
    "        #     _train, _valid = target_encoder(_train, _valid, col, target_col)\n",
    "        #     _, test = target_encoder(train, test, col, target_col)\n",
    "\n",
    "        X_train = _train.drop(target_col, axis=1)\n",
    "        y_train = _train[target_col]\n",
    "        X_valid = _valid.drop(target_col, axis=1)\n",
    "        y_valid = _valid[target_col]\n",
    "        X_test = test\n",
    "\n",
    "        model.train(X_train, y_train, X_valid, y_valid)\n",
    "        model.save(i)\n",
    "        pred = model.predict(X_valid)\n",
    "\n",
    "        # evaluate\n",
    "        score = calc_score(y_valid, pred)\n",
    "        logger.info(f'fold-{i} score: {score}')\n",
    "        wandb.log({'CV': score})\n",
    "\n",
    "        # create oof\n",
    "        oof_df = pd.DataFrame(pred, index=idx_valid)\n",
    "        oofs.append(oof_df)\n",
    "\n",
    "        # pred\n",
    "        pred_test = model.predict(X_test)\n",
    "        np.save(f\"{c.output_dir}/pred_test_{i}\", pred_test)\n",
    "        preds.append(pred_test)\n",
    "\n",
    "        if i!=len(cv)-1:\n",
    "            wandb.finish()\n",
    "\n",
    "    # oofを保存\n",
    "    oof = np.array(pd.concat(oofs).sort_index())\n",
    "    np.save(f\"{c.output_dir}/oof\", oof)\n",
    "    return model, oof"
   ]
  },
  {
   "cell_type": "code",
   "execution_count": 23,
   "metadata": {},
   "outputs": [
    {
     "name": "stderr",
     "output_type": "stream",
     "text": [
      "Failed to detect the name of this notebook, you can set it manually with the WANDB_NOTEBOOK_NAME environment variable to enable code saving.\n",
      "[I 221003 13:35:00 2254651400:10] ############\n",
      "[I 221003 13:35:00 2254651400:11] fold 0\n",
      "[I 221003 13:35:00 2254651400:12] ############\n",
      "Warning: Overfitting detector is active, thus evaluation metric is calculated on every iteration. 'metric_period' is ignored for evaluation metric.\n"
     ]
    },
    {
     "name": "stdout",
     "output_type": "stream",
     "text": [
      "0:\tlearn: 0.6848512\ttest: 0.6849093\tbest: 0.6849093 (0)\ttotal: 89.4ms\tremaining: 4m 28s\n",
      "100:\tlearn: 0.5255344\ttest: 0.5068115\tbest: 0.5068115 (100)\ttotal: 2.08s\tremaining: 59.8s\n",
      "200:\tlearn: 0.5195309\ttest: 0.4997104\tbest: 0.4997104 (200)\ttotal: 5.3s\tremaining: 1m 13s\n",
      "300:\tlearn: 0.5168083\ttest: 0.4969925\tbest: 0.4969925 (300)\ttotal: 8.69s\tremaining: 1m 17s\n",
      "400:\tlearn: 0.5149664\ttest: 0.4954161\tbest: 0.4954161 (400)\ttotal: 12.3s\tremaining: 1m 19s\n",
      "500:\tlearn: 0.5136894\ttest: 0.4945118\tbest: 0.4945118 (500)\ttotal: 15.7s\tremaining: 1m 18s\n",
      "600:\tlearn: 0.5125460\ttest: 0.4938712\tbest: 0.4938712 (600)\ttotal: 19.1s\tremaining: 1m 16s\n",
      "700:\tlearn: 0.5116606\ttest: 0.4933629\tbest: 0.4933629 (700)\ttotal: 22.7s\tremaining: 1m 14s\n",
      "800:\tlearn: 0.5108405\ttest: 0.4930037\tbest: 0.4930037 (800)\ttotal: 26.5s\tremaining: 1m 12s\n",
      "900:\tlearn: 0.5101247\ttest: 0.4926390\tbest: 0.4926365 (899)\ttotal: 29.9s\tremaining: 1m 9s\n",
      "1000:\tlearn: 0.5094735\ttest: 0.4923777\tbest: 0.4923777 (1000)\ttotal: 33.7s\tremaining: 1m 7s\n",
      "1100:\tlearn: 0.5088925\ttest: 0.4921978\tbest: 0.4921978 (1100)\ttotal: 37.2s\tremaining: 1m 4s\n",
      "1200:\tlearn: 0.5083316\ttest: 0.4920266\tbest: 0.4920237 (1198)\ttotal: 41s\tremaining: 1m 1s\n",
      "1300:\tlearn: 0.5078534\ttest: 0.4918876\tbest: 0.4918859 (1299)\ttotal: 44.5s\tremaining: 58.1s\n",
      "1400:\tlearn: 0.5073620\ttest: 0.4917444\tbest: 0.4917420 (1396)\ttotal: 48s\tremaining: 54.8s\n",
      "1500:\tlearn: 0.5069445\ttest: 0.4916558\tbest: 0.4916554 (1491)\ttotal: 51.4s\tremaining: 51.3s\n",
      "1600:\tlearn: 0.5065292\ttest: 0.4915654\tbest: 0.4915616 (1594)\ttotal: 55s\tremaining: 48.1s\n",
      "1700:\tlearn: 0.5061188\ttest: 0.4914637\tbest: 0.4914637 (1699)\ttotal: 58.5s\tremaining: 44.7s\n",
      "1800:\tlearn: 0.5057357\ttest: 0.4913965\tbest: 0.4913922 (1787)\ttotal: 1m 2s\tremaining: 41.3s\n",
      "1900:\tlearn: 0.5053584\ttest: 0.4913278\tbest: 0.4913278 (1900)\ttotal: 1m 5s\tremaining: 38s\n",
      "2000:\tlearn: 0.5049351\ttest: 0.4912472\tbest: 0.4912472 (2000)\ttotal: 1m 9s\tremaining: 34.8s\n",
      "2100:\tlearn: 0.5045592\ttest: 0.4912291\tbest: 0.4912245 (2098)\ttotal: 1m 13s\tremaining: 31.3s\n",
      "2200:\tlearn: 0.5042032\ttest: 0.4911930\tbest: 0.4911930 (2200)\ttotal: 1m 17s\tremaining: 28s\n",
      "2300:\tlearn: 0.5038674\ttest: 0.4911227\tbest: 0.4911227 (2300)\ttotal: 1m 20s\tremaining: 24.6s\n",
      "2400:\tlearn: 0.5035290\ttest: 0.4910573\tbest: 0.4910573 (2400)\ttotal: 1m 24s\tremaining: 21.2s\n",
      "2500:\tlearn: 0.5032088\ttest: 0.4909962\tbest: 0.4909962 (2500)\ttotal: 1m 28s\tremaining: 17.7s\n",
      "2600:\tlearn: 0.5029237\ttest: 0.4909750\tbest: 0.4909750 (2600)\ttotal: 1m 32s\tremaining: 14.2s\n",
      "2700:\tlearn: 0.5026066\ttest: 0.4909659\tbest: 0.4909629 (2684)\ttotal: 1m 36s\tremaining: 10.7s\n",
      "2800:\tlearn: 0.5022895\ttest: 0.4909066\tbest: 0.4909011 (2794)\ttotal: 1m 40s\tremaining: 7.14s\n",
      "2900:\tlearn: 0.5019979\ttest: 0.4908898\tbest: 0.4908883 (2898)\ttotal: 1m 44s\tremaining: 3.57s\n",
      "2999:\tlearn: 0.5017006\ttest: 0.4908668\tbest: 0.4908662 (2984)\ttotal: 1m 48s\tremaining: 0us\n",
      "\n",
      "bestTest = 0.4908661935\n",
      "bestIteration = 2984\n",
      "\n",
      "Shrink model to first 2985 iterations.\n"
     ]
    },
    {
     "name": "stderr",
     "output_type": "stream",
     "text": [
      "[I 221003 13:36:49 2254651400:34] fold-0 score: 0.6379306187057814\n"
     ]
    }
   ],
   "source": [
    "model, oof = train_pipeline(model, train_data, test_data, cv, c, cat_cols, c.target_col)"
   ]
  },
  {
   "cell_type": "code",
   "execution_count": null,
   "metadata": {},
   "outputs": [],
   "source": [
    "from src.visualize import plot_importance\n",
    "# catboostは対応していない\n",
    "plot_importance(model.models, output_dir=c.output_dir)"
   ]
  },
  {
   "cell_type": "markdown",
   "metadata": {},
   "source": [
    "### inference"
   ]
  },
  {
   "cell_type": "code",
   "execution_count": 25,
   "metadata": {},
   "outputs": [],
   "source": [
    "preds = []\n",
    "for i in range(len(cv)):\n",
    "    pred = np.load(f'{c.output_dir}/pred_test_{i}.npy')\n",
    "    preds.append(pred)\n",
    "pred_test = np.mean(preds, axis=0)"
   ]
  },
  {
   "cell_type": "markdown",
   "metadata": {},
   "source": [
    "### submission"
   ]
  },
  {
   "cell_type": "code",
   "execution_count": 26,
   "metadata": {},
   "outputs": [],
   "source": [
    "sub = pd.read_csv(f'{c.input_dir}/sample_submission.csv')\n",
    "sub['label'] = pred_test\n",
    "sub.to_csv(f'{c.output_dir}/submission_exp{c.version}.csv', index=False)"
   ]
  },
  {
   "cell_type": "code",
   "execution_count": 32,
   "metadata": {},
   "outputs": [
    {
     "name": "stderr",
     "output_type": "stream",
     "text": [
      "/opt/conda/lib/python3.8/site-packages/seaborn/distributions.py:2619: FutureWarning: `distplot` is a deprecated function and will be removed in a future version. Please adapt your code to use either `displot` (a figure-level function with similar flexibility) or `histplot` (an axes-level function for histograms).\n",
      "  warnings.warn(msg, FutureWarning)\n"
     ]
    },
    {
     "data": {
      "text/plain": [
       "<AxesSubplot:xlabel='label', ylabel='Density'>"
      ]
     },
     "execution_count": 32,
     "metadata": {},
     "output_type": "execute_result"
    },
    {
     "data": {
      "image/png": "[encoded data removed]",
      "text/plain": [
       "<Figure size 432x288 with 1 Axes>"
      ]
     },
     "metadata": {},
     "output_type": "display_data"
    }
   ],
   "source": [
    "sns.distplot(sub['label'])"
   ]
  },
  {
   "cell_type": "code",
   "execution_count": null,
   "metadata": {},
   "outputs": [],
   "source": []
  }
 ],
 "metadata": {
  "kernelspec": {
   "display_name": "Python 3.8.12 ('base')",
   "language": "python",
   "name": "python3"
  },
  "language_info": {
   "codemirror_mode": {
    "name": "ipython",
    "version": 3
   },
   "file_extension": ".py",
   "mimetype": "text/x-python",
   "name": "python",
   "nbconvert_exporter": "python",
   "pygments_lexer": "ipython3",
   "version": "3.8.12"
  },
  "orig_nbformat": 4,
  "vscode": {
   "interpreter": {
    "hash": "d4d1e4263499bec80672ea0156c357c1ee493ec2b1c70f0acce89fc37c4a6abe"
   }
  }
 },
 "nbformat": 4,
 "nbformat_minor": 2
}
