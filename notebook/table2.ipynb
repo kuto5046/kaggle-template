{
 "cells": [
  {
   "cell_type": "markdown",
   "metadata": {},
   "source": [
    "### import"
   ]
  },
  {
   "cell_type": "code",
   "execution_count": 1,
   "metadata": {},
   "outputs": [],
   "source": [
    "import numpy as np \n",
    "import pandas as pd \n",
    "import sys \n",
    "import os \n",
    "import logzero \n",
    "import wandb \n",
    "import pickle \n",
    "import matplotlib.pyplot as plt \n",
    "import seaborn as sns \n",
    "sns.set()"
   ]
  },
  {
   "cell_type": "markdown",
   "metadata": {},
   "source": [
    "### config"
   ]
  },
  {
   "cell_type": "code",
   "execution_count": 2,
   "metadata": {},
   "outputs": [],
   "source": [
    "from src.utils import noglobal, pickle_load, pickle_save, HydraConfig"
   ]
  },
  {
   "cell_type": "code",
   "execution_count": 3,
   "metadata": {},
   "outputs": [
    {
     "name": "stderr",
     "output_type": "stream",
     "text": [
      "/opt/conda/lib/python3.8/site-packages/hydra/_internal/defaults_list.py:251: UserWarning: In 'lgb_multiclass': Defaults list is missing `_self_`. See https://hydra.cc/docs/upgrades/1.0_to_1.1/default_composition_order for more information\n",
      "  warnings.warn(msg, UserWarning)\n"
     ]
    }
   ],
   "source": [
    "class Config():\n",
    "    version = '002'\n",
    "    comment = 'test'\n",
    "    input_dir = '/home/user/work/input/whichbookshouldiread'\n",
    "    output_dir = f'/home/user/work/output/{version}' \n",
    "    seed = 42\n",
    "    target_col = 'rating'\n",
    "    wandb_init = {\n",
    "        \"project\": \"debug\",\n",
    "        \"entity\": \"kuto5046\",\n",
    "        \"group\": f\"exp{version}\",\n",
    "        \"dir\": output_dir,\n",
    "        \"tags\": [],\n",
    "        \"mode\": \"disabled\", \n",
    "    }\n",
    "\n",
    "    # model設定読み込み\n",
    "    model_config_name = 'lgb_multiclass'  # タスクや使うモデルに応じて変更\n",
    "    model_config = HydraConfig.get_cnf(config_path='/home/user/work/configs/model/', config_name=model_config_name)\n",
    "    num_boost_round = model_config['num_boost_round']\n",
    "    model_name = model_config.name\n",
    "    model_params = dict(model_config['params'])\n",
    "\n",
    "    \n",
    "\n",
    "c = Config()\n",
    "# c = HydraConfig.get_cnf(config_path='/home/user/work/configs/', config_name='config.yaml')\n",
    "os.makedirs(c.output_dir, exist_ok=True)\n",
    "logger = logzero.setup_logger(name='main', logfile=f'{c.output_dir}/result.log', level=10)"
   ]
  },
  {
   "cell_type": "code",
   "execution_count": 4,
   "metadata": {},
   "outputs": [
    {
     "data": {
      "text/plain": [
       "('lightgbm',\n",
       " 3000,\n",
       " {'boosting_type': 'gbdt',\n",
       "  'objective': 'multiclass',\n",
       "  'metric': 'multi_logloss',\n",
       "  'colsample_bytree': 0.8,\n",
       "  'max_depth': 5,\n",
       "  'subsample': 0.8,\n",
       "  'min_child_weight': 1,\n",
       "  'seed': 42,\n",
       "  'learning_rate': 0.05,\n",
       "  'verbose': -1,\n",
       "  'num_class': 10})"
      ]
     },
     "execution_count": 4,
     "metadata": {},
     "output_type": "execute_result"
    }
   ],
   "source": [
    "# 念の為check\n",
    "c.model_name, c.num_boost_round, c.model_params"
   ]
  },
  {
   "cell_type": "markdown",
   "metadata": {},
   "source": [
    "### read data"
   ]
  },
  {
   "cell_type": "code",
   "execution_count": 5,
   "metadata": {},
   "outputs": [
    {
     "name": "stderr",
     "output_type": "stream",
     "text": [
      "/opt/conda/lib/python3.8/site-packages/IPython/core/interactiveshell.py:3457: DtypeWarning: Columns (3) have mixed types.Specify dtype option on import or set low_memory=False.\n",
      "  exec(code_obj, self.user_global_ns, self.user_ns)\n"
     ]
    },
    {
     "data": {
      "text/plain": [
       "((249426, 4), (134307, 3))"
      ]
     },
     "execution_count": 5,
     "metadata": {},
     "output_type": "execute_result"
    }
   ],
   "source": [
    "train = pd.read_csv(f'{c.input_dir}/train_ratings.csv')\n",
    "test = pd.read_csv(f'{c.input_dir}/test_ratings.csv')\n",
    "user = pd.read_csv(f\"{c.input_dir}/users.csv\")\n",
    "book = pd.read_csv(f\"{c.input_dir}/books.csv\")\n",
    "train.shape, test.shape"
   ]
  },
  {
   "cell_type": "code",
   "execution_count": 6,
   "metadata": {},
   "outputs": [],
   "source": [
    "c.target_col = 'rating'"
   ]
  },
  {
   "cell_type": "markdown",
   "metadata": {},
   "source": [
    "### preprocess"
   ]
  },
  {
   "cell_type": "code",
   "execution_count": 7,
   "metadata": {},
   "outputs": [],
   "source": [
    "from src.features.base import get_categorical_col, get_numerical_col\n",
    "from src.features.encoder import pp_for_categorical_encoding"
   ]
  },
  {
   "cell_type": "code",
   "execution_count": 8,
   "metadata": {},
   "outputs": [],
   "source": [
    "train[c.target_col] -= 1"
   ]
  },
  {
   "cell_type": "code",
   "execution_count": 9,
   "metadata": {},
   "outputs": [],
   "source": [
    "whole = pd.concat([train, test]).reset_index(drop=True)"
   ]
  },
  {
   "cell_type": "code",
   "execution_count": 10,
   "metadata": {},
   "outputs": [],
   "source": [
    "whole = whole.merge(book, on='book_id', how='left').merge(user, on='user_id', how='left')"
   ]
  },
  {
   "cell_type": "code",
   "execution_count": 11,
   "metadata": {},
   "outputs": [],
   "source": [
    "cat_cols = get_categorical_col(whole, skip_cols=['id', c.target_col])\n",
    "numerical_cols = get_numerical_col(whole, skip_cols=['id', c.target_col])"
   ]
  },
  {
   "cell_type": "code",
   "execution_count": 12,
   "metadata": {},
   "outputs": [
    {
     "data": {
      "text/plain": [
       "['user_id',\n",
       " 'book_id',\n",
       " 'title',\n",
       " 'author',\n",
       " 'year',\n",
       " 'publisher',\n",
       " 'city',\n",
       " 'province',\n",
       " 'country']"
      ]
     },
     "execution_count": 12,
     "metadata": {},
     "output_type": "execute_result"
    }
   ],
   "source": [
    "cat_cols"
   ]
  },
  {
   "cell_type": "code",
   "execution_count": 13,
   "metadata": {},
   "outputs": [
    {
     "data": {
      "text/html": [
       "<div>\n",
       "<style scoped>\n",
       "    .dataframe tbody tr th:only-of-type {\n",
       "        vertical-align: middle;\n",
       "    }\n",
       "\n",
       "    .dataframe tbody tr th {\n",
       "        vertical-align: top;\n",
       "    }\n",
       "\n",
       "    .dataframe thead th {\n",
       "        text-align: right;\n",
       "    }\n",
       "</style>\n",
       "<table border=\"1\" class=\"dataframe\">\n",
       "  <thead>\n",
       "    <tr style=\"text-align: right;\">\n",
       "      <th></th>\n",
       "      <th>user_id</th>\n",
       "      <th>book_id</th>\n",
       "      <th>title</th>\n",
       "      <th>author</th>\n",
       "      <th>year</th>\n",
       "      <th>publisher</th>\n",
       "      <th>city</th>\n",
       "      <th>province</th>\n",
       "      <th>country</th>\n",
       "    </tr>\n",
       "  </thead>\n",
       "  <tbody>\n",
       "    <tr>\n",
       "      <th>0</th>\n",
       "      <td>9db527ea34</td>\n",
       "      <td>69173ee3b6</td>\n",
       "      <td>Elusive Swan</td>\n",
       "      <td>Sylvie F. Sommerfield</td>\n",
       "      <td>1987</td>\n",
       "      <td>Kensington Pub Corp (Mm)</td>\n",
       "      <td>mechanicsville</td>\n",
       "      <td>maryland</td>\n",
       "      <td>usa</td>\n",
       "    </tr>\n",
       "    <tr>\n",
       "      <th>1</th>\n",
       "      <td>3db2595a13</td>\n",
       "      <td>58d33fe06a</td>\n",
       "      <td>The No. 1 Ladies' Detective Agency (Today Show...</td>\n",
       "      <td>Alexander McCall Smith</td>\n",
       "      <td>2003</td>\n",
       "      <td>Anchor</td>\n",
       "      <td>romney</td>\n",
       "      <td>west virginia</td>\n",
       "      <td>usa</td>\n",
       "    </tr>\n",
       "    <tr>\n",
       "      <th>2</th>\n",
       "      <td>375781e597</td>\n",
       "      <td>512b5d69de</td>\n",
       "      <td>Roberts' Rules of Lesbian Break-ups</td>\n",
       "      <td>Shelly Roberts</td>\n",
       "      <td>1997</td>\n",
       "      <td>Spinsters Ink Books</td>\n",
       "      <td>cape girardeau</td>\n",
       "      <td>missouri</td>\n",
       "      <td>usa</td>\n",
       "    </tr>\n",
       "    <tr>\n",
       "      <th>3</th>\n",
       "      <td>f00ee6360d</td>\n",
       "      <td>98c1419160</td>\n",
       "      <td>The Summons</td>\n",
       "      <td>John Grisham</td>\n",
       "      <td>2002</td>\n",
       "      <td>Dell Publishing Company</td>\n",
       "      <td>san diego</td>\n",
       "      <td></td>\n",
       "      <td>usa</td>\n",
       "    </tr>\n",
       "    <tr>\n",
       "      <th>4</th>\n",
       "      <td>8b893fb104</td>\n",
       "      <td>99c56ce036</td>\n",
       "      <td>Starman (The Axis Trilogy, Bk 3)</td>\n",
       "      <td>Sara Douglass</td>\n",
       "      <td>2002</td>\n",
       "      <td>Tor Books</td>\n",
       "      <td>springfield</td>\n",
       "      <td>missouri</td>\n",
       "      <td>usa</td>\n",
       "    </tr>\n",
       "    <tr>\n",
       "      <th>...</th>\n",
       "      <td>...</td>\n",
       "      <td>...</td>\n",
       "      <td>...</td>\n",
       "      <td>...</td>\n",
       "      <td>...</td>\n",
       "      <td>...</td>\n",
       "      <td>...</td>\n",
       "      <td>...</td>\n",
       "      <td>...</td>\n",
       "    </tr>\n",
       "    <tr>\n",
       "      <th>383728</th>\n",
       "      <td>598825e90a</td>\n",
       "      <td>29f4516f72</td>\n",
       "      <td>The Truth: The Only Fitness Book You'll Ever Need</td>\n",
       "      <td>Frank Sepe</td>\n",
       "      <td>2004</td>\n",
       "      <td>Hay House</td>\n",
       "      <td>goodyear</td>\n",
       "      <td>az</td>\n",
       "      <td>usa</td>\n",
       "    </tr>\n",
       "    <tr>\n",
       "      <th>383729</th>\n",
       "      <td>0e1ff052ae</td>\n",
       "      <td>d27721acf2</td>\n",
       "      <td>Ella Enchanted</td>\n",
       "      <td>Gail Carson Levine</td>\n",
       "      <td>1997</td>\n",
       "      <td>Schoolastic Inc.</td>\n",
       "      <td>albuquerque</td>\n",
       "      <td>new mexico</td>\n",
       "      <td>usa</td>\n",
       "    </tr>\n",
       "    <tr>\n",
       "      <th>383730</th>\n",
       "      <td>0baec5a22d</td>\n",
       "      <td>121a671e06</td>\n",
       "      <td>Croc-Blanc</td>\n",
       "      <td>Jack London</td>\n",
       "      <td>2000</td>\n",
       "      <td>Hemma</td>\n",
       "      <td>houdemont</td>\n",
       "      <td>luxembourg</td>\n",
       "      <td>belgium</td>\n",
       "    </tr>\n",
       "    <tr>\n",
       "      <th>383731</th>\n",
       "      <td>967874531a</td>\n",
       "      <td>c414ce067b</td>\n",
       "      <td>Worth Any Price</td>\n",
       "      <td>Lisa Kleypas</td>\n",
       "      <td>2003</td>\n",
       "      <td>Avon</td>\n",
       "      <td>carrollton</td>\n",
       "      <td>georgia</td>\n",
       "      <td>usa</td>\n",
       "    </tr>\n",
       "    <tr>\n",
       "      <th>383732</th>\n",
       "      <td>3ca5c9417e</td>\n",
       "      <td>2ab7f94fb2</td>\n",
       "      <td>The Gift</td>\n",
       "      <td>Julie Garwood</td>\n",
       "      <td>1991</td>\n",
       "      <td>Pocket</td>\n",
       "      <td>ocala</td>\n",
       "      <td>florida</td>\n",
       "      <td>usa</td>\n",
       "    </tr>\n",
       "  </tbody>\n",
       "</table>\n",
       "<p>383733 rows × 9 columns</p>\n",
       "</div>"
      ],
      "text/plain": [
       "           user_id     book_id  \\\n",
       "0       9db527ea34  69173ee3b6   \n",
       "1       3db2595a13  58d33fe06a   \n",
       "2       375781e597  512b5d69de   \n",
       "3       f00ee6360d  98c1419160   \n",
       "4       8b893fb104  99c56ce036   \n",
       "...            ...         ...   \n",
       "383728  598825e90a  29f4516f72   \n",
       "383729  0e1ff052ae  d27721acf2   \n",
       "383730  0baec5a22d  121a671e06   \n",
       "383731  967874531a  c414ce067b   \n",
       "383732  3ca5c9417e  2ab7f94fb2   \n",
       "\n",
       "                                                    title  \\\n",
       "0                                            Elusive Swan   \n",
       "1       The No. 1 Ladies' Detective Agency (Today Show...   \n",
       "2                     Roberts' Rules of Lesbian Break-ups   \n",
       "3                                             The Summons   \n",
       "4                        Starman (The Axis Trilogy, Bk 3)   \n",
       "...                                                   ...   \n",
       "383728  The Truth: The Only Fitness Book You'll Ever Need   \n",
       "383729                                     Ella Enchanted   \n",
       "383730                                         Croc-Blanc   \n",
       "383731                                    Worth Any Price   \n",
       "383732                                           The Gift   \n",
       "\n",
       "                        author  year                 publisher  \\\n",
       "0        Sylvie F. Sommerfield  1987  Kensington Pub Corp (Mm)   \n",
       "1       Alexander McCall Smith  2003                    Anchor   \n",
       "2               Shelly Roberts  1997       Spinsters Ink Books   \n",
       "3                 John Grisham  2002   Dell Publishing Company   \n",
       "4                Sara Douglass  2002                 Tor Books   \n",
       "...                        ...   ...                       ...   \n",
       "383728              Frank Sepe  2004                 Hay House   \n",
       "383729      Gail Carson Levine  1997          Schoolastic Inc.   \n",
       "383730             Jack London  2000                     Hemma   \n",
       "383731            Lisa Kleypas  2003                      Avon   \n",
       "383732           Julie Garwood  1991                    Pocket   \n",
       "\n",
       "                  city        province   country  \n",
       "0       mechanicsville        maryland       usa  \n",
       "1               romney   west virginia       usa  \n",
       "2       cape girardeau        missouri       usa  \n",
       "3            san diego                       usa  \n",
       "4          springfield        missouri       usa  \n",
       "...                ...             ...       ...  \n",
       "383728        goodyear              az       usa  \n",
       "383729     albuquerque      new mexico       usa  \n",
       "383730       houdemont      luxembourg   belgium  \n",
       "383731      carrollton         georgia       usa  \n",
       "383732           ocala         florida       usa  \n",
       "\n",
       "[383733 rows x 9 columns]"
      ]
     },
     "execution_count": 13,
     "metadata": {},
     "output_type": "execute_result"
    }
   ],
   "source": [
    "whole[cat_cols]"
   ]
  },
  {
   "cell_type": "code",
   "execution_count": 14,
   "metadata": {},
   "outputs": [],
   "source": [
    "whole['year'].replace(\"0\", np.nan, inplace=True)\n",
    "whole['year'].replace('DK Publishing Inc', np.nan, inplace=True)"
   ]
  },
  {
   "cell_type": "code",
   "execution_count": 15,
   "metadata": {},
   "outputs": [],
   "source": [
    "whole['year'] = whole['year'].astype(float)"
   ]
  },
  {
   "cell_type": "code",
   "execution_count": 16,
   "metadata": {},
   "outputs": [],
   "source": [
    "whole['year'].replace(0, np.nan, inplace=True)"
   ]
  },
  {
   "cell_type": "code",
   "execution_count": 17,
   "metadata": {},
   "outputs": [],
   "source": [
    "cat_cols = get_categorical_col(whole, skip_cols=['id', c.target_col])\n",
    "numerical_cols = get_numerical_col(whole, skip_cols=['id', c.target_col])"
   ]
  },
  {
   "cell_type": "code",
   "execution_count": 18,
   "metadata": {},
   "outputs": [
    {
     "data": {
      "text/plain": [
       "['user_id',\n",
       " 'book_id',\n",
       " 'title',\n",
       " 'author',\n",
       " 'publisher',\n",
       " 'city',\n",
       " 'province',\n",
       " 'country']"
      ]
     },
     "execution_count": 18,
     "metadata": {},
     "output_type": "execute_result"
    }
   ],
   "source": [
    "cat_cols"
   ]
  },
  {
   "cell_type": "code",
   "execution_count": 19,
   "metadata": {},
   "outputs": [
    {
     "data": {
      "text/plain": [
       "['year', 'age']"
      ]
     },
     "execution_count": 19,
     "metadata": {},
     "output_type": "execute_result"
    }
   ],
   "source": [
    "numerical_cols"
   ]
  },
  {
   "cell_type": "code",
   "execution_count": 20,
   "metadata": {},
   "outputs": [],
   "source": [
    "train = whole[~whole[c.target_col].isna()].reset_index(drop=True)\n",
    "test = whole[whole[c.target_col].isna()].reset_index(drop=True)"
   ]
  },
  {
   "cell_type": "code",
   "execution_count": 21,
   "metadata": {},
   "outputs": [],
   "source": [
    "train, test = pp_for_categorical_encoding(train, test, cat_cols)"
   ]
  },
  {
   "cell_type": "markdown",
   "metadata": {},
   "source": [
    "### feature engineering"
   ]
  },
  {
   "cell_type": "code",
   "execution_count": 22,
   "metadata": {},
   "outputs": [
    {
     "name": "stderr",
     "output_type": "stream",
     "text": [
      "2022-10-07 00:11:13.602895: I tensorflow/core/platform/cpu_feature_guard.cc:193] This TensorFlow binary is optimized with oneAPI Deep Neural Network Library (oneDNN) to use the following CPU instructions in performance-critical operations:  AVX2 FMA\n",
      "To enable them in other operations, rebuild TensorFlow with the appropriate compiler flags.\n",
      "2022-10-07 00:11:13.718926: E tensorflow/stream_executor/cuda/cuda_blas.cc:2981] Unable to register cuBLAS factory: Attempting to register factory for plugin cuBLAS when one has already been registered\n",
      "2022-10-07 00:11:14.067233: W tensorflow/stream_executor/platform/default/dso_loader.cc:64] Could not load dynamic library 'libnvinfer.so.7'; dlerror: libnvinfer.so.7: cannot open shared object file: No such file or directory; LD_LIBRARY_PATH: /opt/conda/lib/python3.8/site-packages/torch/lib:/opt/conda/lib/python3.8/site-packages/torch_tensorrt/lib:/usr/local/cuda/compat/lib:/usr/local/nvidia/lib:/usr/local/nvidia/lib64\n",
      "2022-10-07 00:11:14.067285: W tensorflow/stream_executor/platform/default/dso_loader.cc:64] Could not load dynamic library 'libnvinfer_plugin.so.7'; dlerror: libnvinfer_plugin.so.7: cannot open shared object file: No such file or directory; LD_LIBRARY_PATH: /opt/conda/lib/python3.8/site-packages/torch/lib:/opt/conda/lib/python3.8/site-packages/torch_tensorrt/lib:/usr/local/cuda/compat/lib:/usr/local/nvidia/lib:/usr/local/nvidia/lib64\n",
      "2022-10-07 00:11:14.067290: W tensorflow/compiler/tf2tensorrt/utils/py_utils.cc:38] TF-TRT Warning: Cannot dlopen some TensorRT libraries. If you would like to use Nvidia GPU with TensorRT, please make sure the missing libraries mentioned above are installed properly.\n"
     ]
    }
   ],
   "source": [
    "from src.features.base import Feature, generate_features, load_datasets\n",
    "from src.features.encoder import count_encoder, ordinal_encoder, pp_for_categorical_encoding, target_encoder\n",
    "from src.features.nlp import count_lda_vectorize, tfidf_svd_vectorize, UniversalSentenceEncoder, BertSequenceVectorizer, Sentence2Vec, SCDVEmbedder"
   ]
  },
  {
   "cell_type": "code",
   "execution_count": 23,
   "metadata": {},
   "outputs": [],
   "source": [
    "class Numerical(Feature):\n",
    "    def create_features(self):\n",
    "        self.train = train[numerical_cols]\n",
    "        self.test = test[numerical_cols]\n",
    "\n",
    "\n",
    "class OrdinalEncode(Feature):\n",
    "    def create_features(self):\n",
    "        self.train, self.test = ordinal_encoder(train, test, cat_cols)\n",
    "\n",
    "\n",
    "class CountEncode(Feature):\n",
    "    def create_features(self):\n",
    "        self.train, self.test = count_encoder(train, test, cat_cols)"
   ]
  },
  {
   "cell_type": "code",
   "execution_count": 24,
   "metadata": {},
   "outputs": [
    {
     "name": "stdout",
     "output_type": "stream",
     "text": [
      "Numerical was skipped\n",
      "OrdinalEncode was skipped\n",
      "CountEncode was skipped\n"
     ]
    }
   ],
   "source": [
    "ext = 'pickle'\n",
    "generate_features(globals(), ext=ext, overwrite=False)"
   ]
  },
  {
   "cell_type": "code",
   "execution_count": 25,
   "metadata": {},
   "outputs": [],
   "source": [
    "feats = [\n",
    "    'OrdinalEncode',\n",
    "    'Numerical',\n",
    "    'CountEncode'\n",
    "]\n",
    "train_data, test_data = load_datasets(feats, ext=ext)"
   ]
  },
  {
   "cell_type": "code",
   "execution_count": 26,
   "metadata": {},
   "outputs": [
    {
     "data": {
      "text/plain": [
       "['ordinal_enc_user_id',\n",
       " 'ordinal_enc_book_id',\n",
       " 'ordinal_enc_title',\n",
       " 'ordinal_enc_author',\n",
       " 'ordinal_enc_publisher',\n",
       " 'ordinal_enc_city',\n",
       " 'ordinal_enc_province',\n",
       " 'ordinal_enc_country']"
      ]
     },
     "execution_count": 26,
     "metadata": {},
     "output_type": "execute_result"
    }
   ],
   "source": [
    "cat_cols = get_categorical_col(train_data)\n",
    "cat_cols "
   ]
  },
  {
   "cell_type": "code",
   "execution_count": 27,
   "metadata": {},
   "outputs": [
    {
     "name": "stdout",
     "output_type": "stream",
     "text": [
      "ordinal_enc_user_id\n",
      "ordinal_enc_book_id\n",
      "ordinal_enc_title\n",
      "ordinal_enc_author\n",
      "ordinal_enc_publisher\n",
      "ordinal_enc_city\n",
      "ordinal_enc_province\n",
      "ordinal_enc_country\n",
      "year\n",
      "age\n",
      "count_enc_user_id\n",
      "count_enc_book_id\n",
      "count_enc_title\n",
      "count_enc_author\n",
      "count_enc_publisher\n",
      "count_enc_city\n",
      "count_enc_province\n",
      "count_enc_country\n"
     ]
    }
   ],
   "source": [
    "# 使用する特徴量&label\n",
    "for f in train_data.columns:\n",
    "    print(f)"
   ]
  },
  {
   "cell_type": "code",
   "execution_count": 28,
   "metadata": {},
   "outputs": [],
   "source": [
    "train_data[c.target_col] = train[c.target_col].to_numpy()"
   ]
  },
  {
   "cell_type": "markdown",
   "metadata": {},
   "source": [
    "### cv"
   ]
  },
  {
   "cell_type": "code",
   "execution_count": 29,
   "metadata": {},
   "outputs": [
    {
     "data": {
      "text/plain": [
       "[(array([     2,      3,      4, ..., 249423, 249424, 249425]),\n",
       "  array([     0,      1,     12, ..., 249410, 249418, 249420])),\n",
       " (array([     0,      1,      2, ..., 249423, 249424, 249425]),\n",
       "  array([     5,     32,     36, ..., 249415, 249417, 249422])),\n",
       " (array([     0,      1,      2, ..., 249419, 249420, 249422]),\n",
       "  array([     7,     10,     13, ..., 249423, 249424, 249425])),\n",
       " (array([     0,      1,      2, ..., 249423, 249424, 249425]),\n",
       "  array([     3,      6,      8, ..., 249412, 249416, 249419])),\n",
       " (array([     0,      1,      3, ..., 249423, 249424, 249425]),\n",
       "  array([     2,      4,     11, ..., 249411, 249413, 249414]))]"
      ]
     },
     "execution_count": 29,
     "metadata": {},
     "output_type": "execute_result"
    }
   ],
   "source": [
    "from src.cv import get_kfold, get_stratifiedkfold, get_groupkfold\n",
    "cv = get_stratifiedkfold(train_data, c.target_col, n_splits=5)\n",
    "cv"
   ]
  },
  {
   "cell_type": "markdown",
   "metadata": {},
   "source": [
    "### callback"
   ]
  },
  {
   "cell_type": "code",
   "execution_count": 30,
   "metadata": {},
   "outputs": [
    {
     "data": {
      "text/plain": [
       "[<function lightgbm.callback.early_stopping.<locals>._callback(env: lightgbm.callback.CallbackEnv) -> None>,\n",
       " <function lightgbm.callback.log_evaluation.<locals>._callback(env: lightgbm.callback.CallbackEnv) -> None>,\n",
       " <function wandb.integration.lightgbm.wandb_callback.<locals>._callback(env: 'CallbackEnv') -> None>]"
      ]
     },
     "execution_count": 30,
     "metadata": {},
     "output_type": "execute_result"
    }
   ],
   "source": [
    "from src.models import get_callbacks\n",
    "callbacks = get_callbacks(c.model_name)\n",
    "callbacks"
   ]
  },
  {
   "cell_type": "markdown",
   "metadata": {},
   "source": [
    "### model"
   ]
  },
  {
   "cell_type": "code",
   "execution_count": 31,
   "metadata": {},
   "outputs": [],
   "source": [
    "from src.models import get_model # , LGBModel, XGBModel, CBModel \n",
    "\n",
    "model = get_model(c.model_name, c.model_params, c.num_boost_round, cat_cols, c.output_dir, callbacks)"
   ]
  },
  {
   "cell_type": "markdown",
   "metadata": {},
   "source": [
    "### train"
   ]
  },
  {
   "cell_type": "code",
   "execution_count": 32,
   "metadata": {},
   "outputs": [],
   "source": [
    "from sklearn.metrics import f1_score, roc_auc_score\n",
    "def calc_score(true, pred):\n",
    "    return f1_score(true, pred, average='micro')"
   ]
  },
  {
   "cell_type": "code",
   "execution_count": 33,
   "metadata": {},
   "outputs": [],
   "source": [
    "def train_pipeline(model, train, test, cv, config, cat_cols, target_col):\n",
    "    oofs = []\n",
    "    preds = []\n",
    "    for i, (idx_train, idx_valid) in enumerate(cv):\n",
    "        wandb.init(**config.wandb_init, name=f'exp{config.version}-fold{i}')\n",
    "\n",
    "        if i not in [0]:\n",
    "            break \n",
    "\n",
    "        logger.info(\"############\")\n",
    "        logger.info(f\"fold {i}\")\n",
    "        logger.info(\"############\")\n",
    "\n",
    "        _train = train.loc[idx_train].reset_index(drop=True)\n",
    "        _valid = train.loc[idx_valid].reset_index(drop=True)\n",
    "\n",
    "        # target encoding\n",
    "        te_cols = cat_cols \n",
    "        for col in te_cols:\n",
    "            _train, _valid = target_encoder(_train, _valid, col, target_col)\n",
    "            _, test = target_encoder(train, test, col, target_col)\n",
    "\n",
    "        X_train = _train.drop(target_col, axis=1)\n",
    "        y_train = _train[target_col]\n",
    "        X_valid = _valid.drop(target_col, axis=1)\n",
    "        y_valid = _valid[target_col]\n",
    "        X_test = test\n",
    "\n",
    "        model.train(X_train, y_train, X_valid, y_valid)\n",
    "        model.save(i)\n",
    "        pred = model.predict(X_valid)\n",
    "\n",
    "        # evaluate\n",
    "        score = calc_score(y_valid, pred)\n",
    "        logger.info(f'fold-{i} score: {score}')\n",
    "        wandb.log({'CV': score})\n",
    "\n",
    "        # create oof\n",
    "        oof_df = pd.DataFrame(pred, index=idx_valid)\n",
    "        oofs.append(oof_df)\n",
    "\n",
    "        # pred\n",
    "        pred_test = model.predict(X_test)\n",
    "        np.save(f\"{c.output_dir}/pred_test_{i}\", pred_test)\n",
    "        preds.append(pred_test)\n",
    "\n",
    "        if i!=len(cv)-1:\n",
    "            wandb.finish()\n",
    "\n",
    "    # oofを保存\n",
    "    oof = np.array(pd.concat(oofs).sort_index())\n",
    "    np.save(f\"{c.output_dir}/oof\", oof)\n",
    "    return model, oof"
   ]
  },
  {
   "cell_type": "code",
   "execution_count": 34,
   "metadata": {},
   "outputs": [],
   "source": [
    "# model.model_params['num_boost_round'] = 50"
   ]
  },
  {
   "cell_type": "code",
   "execution_count": 35,
   "metadata": {},
   "outputs": [
    {
     "name": "stderr",
     "output_type": "stream",
     "text": [
      "Failed to detect the name of this notebook, you can set it manually with the WANDB_NOTEBOOK_NAME environment variable to enable code saving.\n",
      "[I 221007 00:11:16 590137544:10] ############\n",
      "[I 221007 00:11:16 590137544:11] fold 0\n",
      "[I 221007 00:11:16 590137544:12] ############\n",
      "/opt/conda/lib/python3.8/site-packages/lightgbm/engine.py:177: UserWarning: Found `num_boost_round` in params. Will use it instead of argument\n",
      "  _log_warning(f\"Found `{alias}` in params. Will use it instead of argument\")\n",
      "/opt/conda/lib/python3.8/site-packages/lightgbm/basic.py:2065: UserWarning: Using categorical_feature in Dataset.\n",
      "  _log_warning('Using categorical_feature in Dataset.')\n",
      "/opt/conda/lib/python3.8/site-packages/lightgbm/basic.py:1780: UserWarning: Overriding the parameters from Reference Dataset.\n",
      "  _log_warning('Overriding the parameters from Reference Dataset.')\n",
      "/opt/conda/lib/python3.8/site-packages/lightgbm/basic.py:1513: UserWarning: categorical_column in param dict is overridden.\n",
      "  _log_warning(f'{cat_alias} in param dict is overridden.')\n"
     ]
    },
    {
     "name": "stdout",
     "output_type": "stream",
     "text": [
      "Training until validation scores don't improve for 100 rounds\n",
      "Did not meet early stopping. Best iteration is:\n",
      "[50]\ttraining's multi_logloss: 1.60123\tvalid_1's multi_logloss: 1.70688\n"
     ]
    },
    {
     "name": "stderr",
     "output_type": "stream",
     "text": [
      "[I 221007 00:11:22 590137544:35] fold-0 score: 0.3432826845207072\n"
     ]
    }
   ],
   "source": [
    "model, oof = train_pipeline(model, train_data, test_data, cv, c, cat_cols, c.target_col)"
   ]
  },
  {
   "cell_type": "code",
   "execution_count": 36,
   "metadata": {},
   "outputs": [
    {
     "data": {
      "text/plain": [
       "(<Figure size 576x468 with 1 Axes>,\n",
       " <AxesSubplot:title={'center':'Importance'}, xlabel='feature_importance', ylabel='column'>)"
      ]
     },
     "execution_count": 36,
     "metadata": {},
     "output_type": "execute_result"
    },
    {
     "data": {
      "image/png": "[encoded data removed]",
      "text/plain": [
       "<Figure size 576x468 with 1 Axes>"
      ]
     },
     "metadata": {},
     "output_type": "display_data"
    }
   ],
   "source": [
    "from src.visualize import plot_importance\n",
    "# catboostは対応していない\n",
    "plot_importance(model.models, output_dir=c.output_dir)"
   ]
  },
  {
   "cell_type": "markdown",
   "metadata": {},
   "source": [
    "### inference"
   ]
  },
  {
   "cell_type": "code",
   "execution_count": 37,
   "metadata": {},
   "outputs": [],
   "source": [
    "preds = []\n",
    "for i in range(len(cv)):\n",
    "    if i > 0:\n",
    "        break \n",
    "    pred = np.load(f'{c.output_dir}/pred_test_{i}.npy')\n",
    "    preds.append(pred)\n",
    "pred_test = np.mean(preds, axis=0)"
   ]
  },
  {
   "cell_type": "code",
   "execution_count": 38,
   "metadata": {},
   "outputs": [],
   "source": [
    "pred_test = pred_test - 1"
   ]
  },
  {
   "cell_type": "code",
   "execution_count": 39,
   "metadata": {},
   "outputs": [
    {
     "name": "stderr",
     "output_type": "stream",
     "text": [
      "/opt/conda/lib/python3.8/site-packages/seaborn/distributions.py:2619: FutureWarning: `distplot` is a deprecated function and will be removed in a future version. Please adapt your code to use either `displot` (a figure-level function with similar flexibility) or `histplot` (an axes-level function for histograms).\n",
      "  warnings.warn(msg, FutureWarning)\n"
     ]
    },
    {
     "data": {
      "text/plain": [
       "<AxesSubplot:ylabel='Density'>"
      ]
     },
     "execution_count": 39,
     "metadata": {},
     "output_type": "execute_result"
    },
    {
     "data": {
      "image/png": "[encoded data removed]",
      "text/plain": [
       "<Figure size 432x288 with 1 Axes>"
      ]
     },
     "metadata": {},
     "output_type": "display_data"
    }
   ],
   "source": [
    "sns.distplot(pred_test)"
   ]
  },
  {
   "cell_type": "markdown",
   "metadata": {},
   "source": [
    "### submission"
   ]
  },
  {
   "cell_type": "code",
   "execution_count": 40,
   "metadata": {},
   "outputs": [],
   "source": [
    "sub = pd.read_csv(f'{c.input_dir}/sample_submission.csv')\n",
    "sub[c.target_col] = pred_test\n",
    "sub.to_csv(f'{c.output_dir}/submission_exp{c.version}.csv', index=False)"
   ]
  },
  {
   "cell_type": "code",
   "execution_count": null,
   "metadata": {},
   "outputs": [],
   "source": []
  }
 ],
 "metadata": {
  "kernelspec": {
   "display_name": "Python 3.8.12 ('base')",
   "language": "python",
   "name": "python3"
  },
  "language_info": {
   "codemirror_mode": {
    "name": "ipython",
    "version": 3
   },
   "file_extension": ".py",
   "mimetype": "text/x-python",
   "name": "python",
   "nbconvert_exporter": "python",
   "pygments_lexer": "ipython3",
   "version": "3.8.12"
  },
  "orig_nbformat": 4,
  "vscode": {
   "interpreter": {
    "hash": "d4d1e4263499bec80672ea0156c357c1ee493ec2b1c70f0acce89fc37c4a6abe"
   }
  }
 },
 "nbformat": 4,
 "nbformat_minor": 2
}
